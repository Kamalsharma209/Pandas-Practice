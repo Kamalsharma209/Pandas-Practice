{
  "nbformat": 4,
  "nbformat_minor": 0,
  "metadata": {
    "colab": {
      "provenance": [],
      "authorship_tag": "ABX9TyPFh/oKBe2p5WSWIVs+9/8/",
      "include_colab_link": true
    },
    "kernelspec": {
      "name": "python3",
      "display_name": "Python 3"
    },
    "language_info": {
      "name": "python"
    }
  },
  "cells": [
    {
      "cell_type": "markdown",
      "metadata": {
        "id": "view-in-github",
        "colab_type": "text"
      },
      "source": [
        "<a href=\"https://colab.research.google.com/github/Kamalsharma209/Pandas-Practice/blob/main/Join%2CMerge%2Cconcatenate_and_grouping.ipynb\" target=\"_parent\"><img src=\"https://colab.research.google.com/assets/colab-badge.svg\" alt=\"Open In Colab\"/></a>"
      ]
    },
    {
      "cell_type": "markdown",
      "source": [
        "**Pandas Tutorial : Join , Merge and Grouping/Aggregation**"
      ],
      "metadata": {
        "id": "Vbxun0UE42o2"
      }
    },
    {
      "cell_type": "code",
      "source": [
        "import pandas as pd"
      ],
      "metadata": {
        "id": "tskRywqM5OWa"
      },
      "execution_count": 1,
      "outputs": []
    },
    {
      "cell_type": "markdown",
      "source": [
        "**Join Example : left,right,inner and outer joins**"
      ],
      "metadata": {
        "id": "TTU3Qthc5UBk"
      }
    },
    {
      "cell_type": "code",
      "source": [
        "df1 =pd.DataFrame({\n",
        "    'Name' : ['Alice','Bob','Charlie'],\n",
        "    'Age' : [25,10,20]\n",
        "} , index = ['A','B','C'])\n",
        "\n",
        "df2 = pd.DataFrame({\n",
        "    'City': ['NewYork','Los Angeles']\n",
        "} , index=['A','B'])\n",
        "\n",
        "result = df1.join(df2, how='left')\n",
        "print(\"Left join result: \")\n",
        "print(result)"
      ],
      "metadata": {
        "colab": {
          "base_uri": "https://localhost:8080/"
        },
        "id": "M73x05Ww5wPW",
        "outputId": "df8765b1-aea4-4eeb-d84d-4a8b2b62dee8"
      },
      "execution_count": null,
      "outputs": [
        {
          "output_type": "stream",
          "name": "stdout",
          "text": [
            "Left join result: \n",
            "      Name  Age         City\n",
            "A    Alice   25      NewYork\n",
            "B      Bob   10  Los Angeles\n",
            "C  Charlie   20          NaN\n"
          ]
        }
      ]
    },
    {
      "cell_type": "code",
      "source": [
        "df1 =pd.DataFrame({\n",
        "    'Name' : ['Alice','Bob','Charlie'],\n",
        "    'Age' : [25,10,20]\n",
        "} , index = ['A','B','C'])\n",
        "\n",
        "df2 = pd.DataFrame({\n",
        "    'City': ['NewYork','Los Angeles']\n",
        "} , index=['A','B'])\n",
        "\n",
        "result = df1.join(df2, how='right')\n",
        "print(\"right join result: \")\n",
        "print(result)"
      ],
      "metadata": {
        "colab": {
          "base_uri": "https://localhost:8080/"
        },
        "id": "X8L9l1TX7he_",
        "outputId": "74a90e7c-cb63-489d-e613-3bf06c9d6f78"
      },
      "execution_count": null,
      "outputs": [
        {
          "output_type": "stream",
          "name": "stdout",
          "text": [
            "right join result: \n",
            "    Name  Age         City\n",
            "A  Alice   25      NewYork\n",
            "B    Bob   10  Los Angeles\n"
          ]
        }
      ]
    },
    {
      "cell_type": "code",
      "source": [
        "df1 =pd.DataFrame({\n",
        "    'Name' : ['Alice','Bob','Charlie'],\n",
        "    'Age' : [25,10,20]\n",
        "} , index = ['A','B','C'])\n",
        "\n",
        "df2 = pd.DataFrame({\n",
        "    'City': ['NewYork','Los Angeles']\n",
        "} , index=['A','B'])\n",
        "\n",
        "result = df1.join(df2, how='inner')\n",
        "print(\"inner join result: \")\n",
        "print(result)"
      ],
      "metadata": {
        "colab": {
          "base_uri": "https://localhost:8080/"
        },
        "id": "ruu811mi7pOK",
        "outputId": "236b5ace-e338-450d-ed09-3b3b609a8223"
      },
      "execution_count": null,
      "outputs": [
        {
          "output_type": "stream",
          "name": "stdout",
          "text": [
            "inner join result: \n",
            "    Name  Age         City\n",
            "A  Alice   25      NewYork\n",
            "B    Bob   10  Los Angeles\n"
          ]
        }
      ]
    },
    {
      "cell_type": "code",
      "source": [
        "df1 = pd.DataFrame({\n",
        "    'Name': ['Alice', 'Bob', 'Charlie'],\n",
        "    'Age': [25, 30, 35]\n",
        "}, index=['A', 'B', 'D'])\n",
        "\n",
        "df2 = pd.DataFrame({\n",
        "    'City': ['New York', 'Los Angeles', 'Chicago']\n",
        "}, index=['A', 'B', 'C'])\n",
        "\n",
        "# Perform an outer join\n",
        "result = df1.join(df2, how='outer')\n",
        "\n",
        "print(\"Outer Join Result:\")\n",
        "print(result)"
      ],
      "metadata": {
        "colab": {
          "base_uri": "https://localhost:8080/"
        },
        "id": "9zbKv1Gn-vPI",
        "outputId": "e1d5ceb4-a7b7-4c0b-fc2d-b2bd96c01353"
      },
      "execution_count": null,
      "outputs": [
        {
          "output_type": "stream",
          "name": "stdout",
          "text": [
            "Outer Join Result:\n",
            "      Name   Age         City\n",
            "A    Alice  25.0     New York\n",
            "B      Bob  30.0  Los Angeles\n",
            "C      NaN   NaN      Chicago\n",
            "D  Charlie  35.0          NaN\n"
          ]
        }
      ]
    },
    {
      "cell_type": "code",
      "source": [
        "df1 = pd.DataFrame({\n",
        "    'Name': ['Alice', 'Bob', 'Charlie'],\n",
        "    'Age': [25, 30, 35]\n",
        "}, index=['A', 'B', 'D'])\n",
        "\n",
        "df2 = pd.DataFrame({\n",
        "    'City': ['New York', 'Los Angeles', 'Chicago']\n",
        "}, index=['A', 'B', 'C'])\n",
        "\n",
        "# Perform an outer join\n",
        "result = df1.join(df2, how='cross')\n",
        "\n",
        "print(\"Outer Join Result:\")\n",
        "print(result)"
      ],
      "metadata": {
        "colab": {
          "base_uri": "https://localhost:8080/"
        },
        "id": "mTFMUqRx5wU0",
        "outputId": "cf0b9946-44e6-42c7-a159-979f6830436b"
      },
      "execution_count": null,
      "outputs": [
        {
          "output_type": "stream",
          "name": "stdout",
          "text": [
            "Outer Join Result:\n",
            "      Name  Age         City\n",
            "0    Alice   25     New York\n",
            "1    Alice   25  Los Angeles\n",
            "2    Alice   25      Chicago\n",
            "3      Bob   30     New York\n",
            "4      Bob   30  Los Angeles\n",
            "5      Bob   30      Chicago\n",
            "6  Charlie   35     New York\n",
            "7  Charlie   35  Los Angeles\n",
            "8  Charlie   35      Chicago\n"
          ]
        }
      ]
    },
    {
      "cell_type": "markdown",
      "source": [
        "**Merge Examples: **"
      ],
      "metadata": {
        "id": "kJDxIauCBdHP"
      }
    },
    {
      "cell_type": "code",
      "source": [
        "df1 = pd.DataFrame({\n",
        "    'ID': [1, 2, 3],\n",
        "    'Name': ['Alice', 'Bob', 'Charlie']\n",
        "})\n",
        "\n",
        "df2 = pd.DataFrame({\n",
        "    'ID': [1, 2, 4],\n",
        "    'City': ['New York', 'Los Angeles', 'Chicago']\n",
        "})\n",
        "\n",
        "# Perform an inner merge on 'ID'\n",
        "result = pd.merge(df1, df2, on='ID', how='inner')\n",
        "\n",
        "print(\"Inner Merge Result:\")\n",
        "print(result)"
      ],
      "metadata": {
        "colab": {
          "base_uri": "https://localhost:8080/"
        },
        "id": "1ROsDZviBrEN",
        "outputId": "83f30798-7173-49b2-f3f2-38b7716a2420"
      },
      "execution_count": 2,
      "outputs": [
        {
          "output_type": "stream",
          "name": "stdout",
          "text": [
            "Inner Merge Result:\n",
            "   ID   Name         City\n",
            "0   1  Alice     New York\n",
            "1   2    Bob  Los Angeles\n"
          ]
        }
      ]
    },
    {
      "cell_type": "code",
      "source": [
        "df1 = pd.DataFrame({\n",
        "    'StudentID': [1, 2, 3],\n",
        "    'Name': ['Alice', 'Bob', 'Charlie']\n",
        "})\n",
        "\n",
        "df2 = pd.DataFrame({\n",
        "    'ID': [1, 2, 4],\n",
        "    'City': ['New York', 'Los Angeles', 'Chicago']\n",
        "})\n",
        "\n",
        "# Perform a left merge\n",
        "result = pd.merge(df1, df2, left_on='StudentID', right_on='ID', how='left')\n",
        "\n",
        "print(\"Left Merge with Different Column Names:\")\n",
        "print(result)\n"
      ],
      "metadata": {
        "colab": {
          "base_uri": "https://localhost:8080/"
        },
        "id": "Nc-jJubDSOTK",
        "outputId": "b2279901-5faf-42d4-f39e-205d3c5b568a"
      },
      "execution_count": 3,
      "outputs": [
        {
          "output_type": "stream",
          "name": "stdout",
          "text": [
            "Left Merge with Different Column Names:\n",
            "   StudentID     Name   ID         City\n",
            "0          1    Alice  1.0     New York\n",
            "1          2      Bob  2.0  Los Angeles\n",
            "2          3  Charlie  NaN          NaN\n"
          ]
        }
      ]
    },
    {
      "cell_type": "code",
      "source": [
        "df1 = pd.DataFrame({\n",
        "    'StudentID': [1, 2, 3],\n",
        "    'Name': ['Alice', 'Bob', 'Charlie']\n",
        "})\n",
        "\n",
        "df2 = pd.DataFrame({\n",
        "    'ID': [1, 2, 4],\n",
        "    'City': ['New York', 'Los Angeles', 'Chicago']\n",
        "})\n",
        "\n",
        "# Perform a left merge\n",
        "result = pd.merge(df1, df2, left_on='StudentID', right_on='ID', how='right')\n",
        "\n",
        "print(\"Left Merge with Different Column Names:\")\n",
        "print(result)"
      ],
      "metadata": {
        "colab": {
          "base_uri": "https://localhost:8080/"
        },
        "id": "TtxGAU3XSQQR",
        "outputId": "1622cf02-f254-469d-882d-6aab25c460ab"
      },
      "execution_count": 4,
      "outputs": [
        {
          "output_type": "stream",
          "name": "stdout",
          "text": [
            "Left Merge with Different Column Names:\n",
            "   StudentID   Name  ID         City\n",
            "0        1.0  Alice   1     New York\n",
            "1        2.0    Bob   2  Los Angeles\n",
            "2        NaN    NaN   4      Chicago\n"
          ]
        }
      ]
    },
    {
      "cell_type": "code",
      "source": [
        "df1 = pd.DataFrame({\n",
        "    'StudentID': [1, 2, 3],\n",
        "    'Name': ['Alice', 'Bob', 'Charlie']\n",
        "})\n",
        "\n",
        "df2 = pd.DataFrame({\n",
        "    'ID': [1, 2, 4],\n",
        "    'City': ['New York', 'Los Angeles', 'Chicago']\n",
        "})\n",
        "\n",
        "# Perform a left merge\n",
        "result = pd.merge(df1, df2, left_on='StudentID', right_on='ID', how='outer')\n",
        "\n",
        "print(\"Left Merge with Different Column Names:\")\n",
        "print(result)"
      ],
      "metadata": {
        "colab": {
          "base_uri": "https://localhost:8080/"
        },
        "id": "69fY1yJ6SS8N",
        "outputId": "4baf2b80-033c-4d63-9dbd-4f21352dd209"
      },
      "execution_count": 5,
      "outputs": [
        {
          "output_type": "stream",
          "name": "stdout",
          "text": [
            "Left Merge with Different Column Names:\n",
            "   StudentID     Name   ID         City\n",
            "0        1.0    Alice  1.0     New York\n",
            "1        2.0      Bob  2.0  Los Angeles\n",
            "2        3.0  Charlie  NaN          NaN\n",
            "3        NaN      NaN  4.0      Chicago\n"
          ]
        }
      ]
    },
    {
      "cell_type": "code",
      "source": [
        "df1 = pd.DataFrame({\n",
        "    'StudentID': [1, 2, 3],\n",
        "    'Name': ['Alice', 'Bob', 'Charlie']\n",
        "})\n",
        "\n",
        "df2 = pd.DataFrame({\n",
        "    'ID': [1, 2, 4],\n",
        "    'City': ['New York', 'Los Angeles', 'Chicago']\n",
        "})\n",
        "\n",
        "# Perform a cross merge\n",
        "result = pd.merge(df1, df2, how='cross')\n",
        "\n",
        "print(\"Cross Merge Result:\")\n",
        "print(result)"
      ],
      "metadata": {
        "colab": {
          "base_uri": "https://localhost:8080/"
        },
        "id": "rKdTevrJSYub",
        "outputId": "2b8b0d96-8f7e-4cc1-d41d-4f5af136a635"
      },
      "execution_count": 8,
      "outputs": [
        {
          "output_type": "stream",
          "name": "stdout",
          "text": [
            "Cross Merge Result:\n",
            "   StudentID     Name  ID         City\n",
            "0          1    Alice   1     New York\n",
            "1          1    Alice   2  Los Angeles\n",
            "2          1    Alice   4      Chicago\n",
            "3          2      Bob   1     New York\n",
            "4          2      Bob   2  Los Angeles\n",
            "5          2      Bob   4      Chicago\n",
            "6          3  Charlie   1     New York\n",
            "7          3  Charlie   2  Los Angeles\n",
            "8          3  Charlie   4      Chicago\n"
          ]
        }
      ]
    }
  ]
}
{
  "nbformat": 4,
  "nbformat_minor": 0,
  "metadata": {
    "colab": {
      "provenance": [],
      "authorship_tag": "ABX9TyOlCi5GO5LKZoNY+wDIE/c/",
      "include_colab_link": true
    },
    "kernelspec": {
      "name": "python3",
      "display_name": "Python 3"
    },
    "language_info": {
      "name": "python"
    }
  },
  "cells": [
    {
      "cell_type": "markdown",
      "metadata": {
        "id": "view-in-github",
        "colab_type": "text"
      },
      "source": [
        "<a href=\"https://colab.research.google.com/github/Kamalsharma209/Pandas-Practice/blob/main/Join%2CMerge%2Cconcatenate_and_grouping.ipynb\" target=\"_parent\"><img src=\"https://colab.research.google.com/assets/colab-badge.svg\" alt=\"Open In Colab\"/></a>"
      ]
    },
    {
      "cell_type": "markdown",
      "source": [
        "**Pandas Tutorial : Join , Merge and Grouping/Aggregation**"
      ],
      "metadata": {
        "id": "Vbxun0UE42o2"
      }
    },
    {
      "cell_type": "code",
      "source": [
        "import pandas as pd"
      ],
      "metadata": {
        "id": "tskRywqM5OWa"
      },
      "execution_count": null,
      "outputs": []
    },
    {
      "cell_type": "markdown",
      "source": [
        "**Join Example : left,right,inner and outer joins**"
      ],
      "metadata": {
        "id": "TTU3Qthc5UBk"
      }
    },
    {
      "cell_type": "code",
      "source": [
        "df1 =pd.DataFrame({\n",
        "    'Name' : ['Alice','Bob','Charlie'],\n",
        "    'Age' : [25,10,20]\n",
        "} , index = ['A','B','C'])\n",
        "\n",
        "df2 = pd.DataFrame({\n",
        "    'City': ['NewYork','Los Angeles']\n",
        "} , index=['A','B'])\n",
        "\n",
        "result = df1.join(df2, how='left')\n",
        "print(\"Left join result: \")\n",
        "print(result)"
      ],
      "metadata": {
        "colab": {
          "base_uri": "https://localhost:8080/"
        },
        "id": "M73x05Ww5wPW",
        "outputId": "df8765b1-aea4-4eeb-d84d-4a8b2b62dee8"
      },
      "execution_count": null,
      "outputs": [
        {
          "output_type": "stream",
          "name": "stdout",
          "text": [
            "Left join result: \n",
            "      Name  Age         City\n",
            "A    Alice   25      NewYork\n",
            "B      Bob   10  Los Angeles\n",
            "C  Charlie   20          NaN\n"
          ]
        }
      ]
    },
    {
      "cell_type": "code",
      "source": [
        "df1 =pd.DataFrame({\n",
        "    'Name' : ['Alice','Bob','Charlie'],\n",
        "    'Age' : [25,10,20]\n",
        "} , index = ['A','B','C'])\n",
        "\n",
        "df2 = pd.DataFrame({\n",
        "    'City': ['NewYork','Los Angeles']\n",
        "} , index=['A','B'])\n",
        "\n",
        "result = df1.join(df2, how='right')\n",
        "print(\"right join result: \")\n",
        "print(result)"
      ],
      "metadata": {
        "colab": {
          "base_uri": "https://localhost:8080/"
        },
        "id": "X8L9l1TX7he_",
        "outputId": "74a90e7c-cb63-489d-e613-3bf06c9d6f78"
      },
      "execution_count": null,
      "outputs": [
        {
          "output_type": "stream",
          "name": "stdout",
          "text": [
            "right join result: \n",
            "    Name  Age         City\n",
            "A  Alice   25      NewYork\n",
            "B    Bob   10  Los Angeles\n"
          ]
        }
      ]
    },
    {
      "cell_type": "code",
      "source": [
        "df1 =pd.DataFrame({\n",
        "    'Name' : ['Alice','Bob','Charlie'],\n",
        "    'Age' : [25,10,20]\n",
        "} , index = ['A','B','C'])\n",
        "\n",
        "df2 = pd.DataFrame({\n",
        "    'City': ['NewYork','Los Angeles']\n",
        "} , index=['A','B'])\n",
        "\n",
        "result = df1.join(df2, how='inner')\n",
        "print(\"inner join result: \")\n",
        "print(result)"
      ],
      "metadata": {
        "colab": {
          "base_uri": "https://localhost:8080/"
        },
        "id": "ruu811mi7pOK",
        "outputId": "236b5ace-e338-450d-ed09-3b3b609a8223"
      },
      "execution_count": null,
      "outputs": [
        {
          "output_type": "stream",
          "name": "stdout",
          "text": [
            "inner join result: \n",
            "    Name  Age         City\n",
            "A  Alice   25      NewYork\n",
            "B    Bob   10  Los Angeles\n"
          ]
        }
      ]
    },
    {
      "cell_type": "code",
      "source": [
        "df1 = pd.DataFrame({\n",
        "    'Name': ['Alice', 'Bob', 'Charlie'],\n",
        "    'Age': [25, 30, 35]\n",
        "}, index=['A', 'B', 'D'])\n",
        "\n",
        "df2 = pd.DataFrame({\n",
        "    'City': ['New York', 'Los Angeles', 'Chicago']\n",
        "}, index=['A', 'B', 'C'])\n",
        "\n",
        "# Perform an outer join\n",
        "result = df1.join(df2, how='outer')\n",
        "\n",
        "print(\"Outer Join Result:\")\n",
        "print(result)"
      ],
      "metadata": {
        "colab": {
          "base_uri": "https://localhost:8080/"
        },
        "id": "9zbKv1Gn-vPI",
        "outputId": "e1d5ceb4-a7b7-4c0b-fc2d-b2bd96c01353"
      },
      "execution_count": 9,
      "outputs": [
        {
          "output_type": "stream",
          "name": "stdout",
          "text": [
            "Outer Join Result:\n",
            "      Name   Age         City\n",
            "A    Alice  25.0     New York\n",
            "B      Bob  30.0  Los Angeles\n",
            "C      NaN   NaN      Chicago\n",
            "D  Charlie  35.0          NaN\n"
          ]
        }
      ]
    }
  ]
}
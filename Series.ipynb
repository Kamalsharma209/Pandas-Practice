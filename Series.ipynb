{
  "nbformat": 4,
  "nbformat_minor": 0,
  "metadata": {
    "colab": {
      "provenance": [],
      "authorship_tag": "ABX9TyOnVzbzBc9oE8YhaxYZNREK",
      "include_colab_link": true
    },
    "kernelspec": {
      "name": "python3",
      "display_name": "Python 3"
    },
    "language_info": {
      "name": "python"
    }
  },
  "cells": [
    {
      "cell_type": "markdown",
      "metadata": {
        "id": "view-in-github",
        "colab_type": "text"
      },
      "source": [
        "<a href=\"https://colab.research.google.com/github/Kamalsharma209/Pandas-Practice/blob/main/Series.ipynb\" target=\"_parent\"><img src=\"https://colab.research.google.com/assets/colab-badge.svg\" alt=\"Open In Colab\"/></a>"
      ]
    },
    {
      "cell_type": "markdown",
      "source": [
        "**Series**"
      ],
      "metadata": {
        "id": "ytC6DyLJ8Qxt"
      }
    },
    {
      "cell_type": "markdown",
      "source": [
        "**1. Creation**"
      ],
      "metadata": {
        "id": "dU_1Okrp8UwZ"
      }
    },
    {
      "cell_type": "code",
      "source": [
        "import pandas as pd\n",
        "import numpy as np\n",
        "\n",
        "data = [1, 2, 3, 4]\n",
        "index = [\"rohan\", \"mohit\", \"sonu\", \"tapu\"]\n",
        "l = pd.Series(data, index=index)\n",
        "print(l)"
      ],
      "metadata": {
        "colab": {
          "base_uri": "https://localhost:8080/"
        },
        "id": "vtcXiQfz8XGK",
        "outputId": "f8b15492-b5da-454e-da6d-c431a558bf65"
      },
      "execution_count": null,
      "outputs": [
        {
          "output_type": "stream",
          "name": "stdout",
          "text": [
            "rohan    1\n",
            "mohit    2\n",
            "sonu     3\n",
            "tapu     4\n",
            "dtype: int64\n"
          ]
        }
      ]
    },
    {
      "cell_type": "markdown",
      "source": [
        "**2. Series from Numpy Array**"
      ],
      "metadata": {
        "id": "eO9r3vwO89J4"
      }
    },
    {
      "cell_type": "code",
      "source": [
        "import numpy as np\n",
        "import pandas as pd\n",
        "\n",
        "data = np.array([1, 2, 3, 4])\n",
        "s = pd.Series(data,index=[\"op\",\"opp\",\"mk\",\"kl\"])\n",
        "print(s)\n"
      ],
      "metadata": {
        "colab": {
          "base_uri": "https://localhost:8080/"
        },
        "id": "1lVaPZ-J9YDM",
        "outputId": "c607d597-c159-4400-f44f-bb4735136ca0"
      },
      "execution_count": null,
      "outputs": [
        {
          "output_type": "stream",
          "name": "stdout",
          "text": [
            "op     1\n",
            "opp    2\n",
            "mk     3\n",
            "kl     4\n",
            "dtype: int64\n"
          ]
        }
      ]
    },
    {
      "cell_type": "markdown",
      "source": [
        "**3. Series from Directonary**"
      ],
      "metadata": {
        "id": "di-GhiN--ofx"
      }
    },
    {
      "cell_type": "code",
      "source": [
        "import pandas as pd\n",
        "dict = {'Rohan':99, 'Bhavana':67, 'chetan':78 , 'Divya':90}\n",
        "d = pd.Series(dict)\n",
        "print(d)"
      ],
      "metadata": {
        "colab": {
          "base_uri": "https://localhost:8080/"
        },
        "id": "rBZ46Qxn-yAs",
        "outputId": "9caa66fc-da25-499c-d8e4-5697d62ab36e"
      },
      "execution_count": null,
      "outputs": [
        {
          "output_type": "stream",
          "name": "stdout",
          "text": [
            "Rohan      99\n",
            "Bhavana    67\n",
            "chetan     78\n",
            "Divya      90\n",
            "dtype: int64\n"
          ]
        }
      ]
    },
    {
      "cell_type": "markdown",
      "source": [
        "\n",
        "###5: Accessing Series Elements"
      ],
      "metadata": {
        "id": "MSYdzhCTEEbo"
      }
    },
    {
      "cell_type": "code",
      "source": [
        "import numpy as np\n",
        "import pandas as pd\n",
        "ml_grades = pd.Series([92, 85, 78, 95], index=['Aarav', 'Bhavna', 'Chetan', 'Divya'])\n",
        "print(ml_grades['Bhavna'])\n",
        "print(ml_grades[0:2])"
      ],
      "metadata": {
        "colab": {
          "base_uri": "https://localhost:8080/"
        },
        "id": "NdNhzuY7WKBb",
        "outputId": "cc0ae2a6-8cd5-4dbb-c782-76f4e044e147"
      },
      "execution_count": 2,
      "outputs": [
        {
          "output_type": "stream",
          "name": "stdout",
          "text": [
            "85\n",
            "Aarav     92\n",
            "Bhavna    85\n",
            "dtype: int64\n"
          ]
        }
      ]
    },
    {
      "cell_type": "markdown",
      "source": [
        "**6. Series Operation**"
      ],
      "metadata": {
        "id": "Zfh2JPUqzkbs"
      }
    },
    {
      "cell_type": "code",
      "source": [
        "bonus_grades = ml_grades + 5\n",
        "print(bonus_grades)"
      ],
      "metadata": {
        "colab": {
          "base_uri": "https://localhost:8080/"
        },
        "id": "w8_LIXP80DDS",
        "outputId": "795450a1-20cb-405d-e274-6d4d464e21a8"
      },
      "execution_count": 3,
      "outputs": [
        {
          "output_type": "stream",
          "name": "stdout",
          "text": [
            "Aarav      97\n",
            "Bhavna     90\n",
            "Chetan     83\n",
            "Divya     100\n",
            "dtype: int64\n"
          ]
        }
      ]
    }
  ]
}